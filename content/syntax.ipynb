{
 "cells": [
  {
   "cell_type": "code",
   "execution_count": null,
   "id": "c88ee1d8",
   "metadata": {},
   "outputs": [],
   "source": [
    "\"\"\"Use normal Python syntax for conditional rendering in a template.\"\"\""
   ]
  },
  {
   "cell_type": "code",
   "execution_count": null,
   "id": "1629fd3a",
   "metadata": {},
   "outputs": [],
   "source": [
    "from tdom import html"
   ]
  },
  {
   "cell_type": "code",
   "execution_count": null,
   "id": "3d7a9843",
   "metadata": {},
   "outputs": [],
   "source": [
    "def main():\n",
    "    \"\"\"Main entry point.\"\"\"\n",
    "    message = \"Say Howdy\"\n",
    "    not_message = \"So Sad\"\n",
    "    show_message = True\n",
    "    result = html(\n",
    "        t\"\"\"\n",
    "        <h1>Show?</h1>\n",
    "        {message if show_message else not_message}\n",
    "    \"\"\"\n",
    "    )\n",
    "    return result"
   ]
  }
 ],
 "metadata": {
  "jupytext": {
   "cell_metadata_filter": "-all",
   "main_language": "python",
   "notebook_metadata_filter": "-all",
   "text_representation": {
    "extension": ".py",
    "format_name": "light"
   }
  }
 },
 "nbformat": 4,
 "nbformat_minor": 5
}
