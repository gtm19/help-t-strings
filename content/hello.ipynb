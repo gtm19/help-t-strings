{
 "cells": [
  {
   "metadata": {
    "jupyter": {
     "is_executing": true
    }
   },
   "cell_type": "code",
   "source": [
    "name = \"World\"\n",
    "message = t\"Hello {name}\"\n",
    "print(message)\n"
   ],
   "id": "1673818a171b3b31",
   "outputs": [],
   "execution_count": null
  }
 ],
 "metadata": {},
 "nbformat": 4,
 "nbformat_minor": 5
}
