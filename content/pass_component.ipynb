{
 "cells": [
  {
   "cell_type": "code",
   "execution_count": null,
   "id": "19a08f10",
   "metadata": {},
   "outputs": [],
   "source": [
    "\"\"\"Pass a component as a prop value.\"\"\""
   ]
  },
  {
   "cell_type": "code",
   "execution_count": null,
   "id": "84663f39",
   "metadata": {},
   "outputs": [],
   "source": [
    "from tdom import html"
   ]
  },
  {
   "cell_type": "code",
   "execution_count": null,
   "id": "4dc2597e",
   "metadata": {},
   "outputs": [],
   "source": [
    "def DefaultHeading():\n",
    "    \"\"\"The default heading.\"\"\"\n",
    "    return html(t\"<h1>Default Heading</h1>\")"
   ]
  },
  {
   "cell_type": "code",
   "execution_count": null,
   "id": "8454d153",
   "metadata": {},
   "outputs": [],
   "source": [
    "def Body(heading):\n",
    "    \"\"\"The body which renders the heading.\"\"\"\n",
    "    return html(t\"<body><{heading} /></body>\")"
   ]
  },
  {
   "cell_type": "code",
   "execution_count": null,
   "id": "b240bb6a",
   "metadata": {},
   "outputs": [],
   "source": [
    "def main():\n",
    "    \"\"\"Main entry point.\"\"\"\n",
    "    result = html(t\"<{Body} heading={DefaultHeading} />\")\n",
    "    return result"
   ]
  }
 ],
 "metadata": {
  "jupytext": {
   "cell_metadata_filter": "-all",
   "main_language": "python",
   "notebook_metadata_filter": "-all",
   "text_representation": {
    "extension": ".py",
    "format_name": "light"
   }
  }
 },
 "nbformat": 4,
 "nbformat_minor": 5
}
