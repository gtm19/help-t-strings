{
 "cells": [
  {
   "cell_type": "code",
   "execution_count": null,
   "id": "5d789b9f",
   "metadata": {},
   "outputs": [],
   "source": [
    "\"\"\"Components can be any kind of dataclass_component.\"\"\""
   ]
  },
  {
   "cell_type": "code",
   "execution_count": null,
   "id": "006e1b15",
   "metadata": {},
   "outputs": [],
   "source": [
    "from dataclasses import dataclass"
   ]
  },
  {
   "cell_type": "code",
   "execution_count": null,
   "id": "f408ac5e",
   "metadata": {},
   "outputs": [],
   "source": [
    "from tdom import html"
   ]
  },
  {
   "cell_type": "code",
   "execution_count": null,
   "id": "a3f47214",
   "metadata": {},
   "outputs": [],
   "source": [
    "@dataclass\n",
    "class Greeting:\n",
    "    \"\"\"Give a greeting.\"\"\"\n",
    "\n",
    "    name: str\n",
    "\n",
    "    def __call__(self):\n",
    "        \"\"\"Render to a string.\"\"\"\n",
    "        return f\"Hello {self.name}\""
   ]
  },
  {
   "cell_type": "code",
   "execution_count": null,
   "id": "fbb09b3b",
   "metadata": {},
   "outputs": [],
   "source": [
    "def main():\n",
    "    \"\"\"Render a template to a string.\"\"\"\n",
    "    greeting = Greeting(name=\"viewdom\")\n",
    "    # TODO Teach the constructor to make dataclass components\n",
    "    result = html(t\"<div><{greeting} /></div>\")\n",
    "    return result"
   ]
  }
 ],
 "metadata": {
  "jupytext": {
   "cell_metadata_filter": "-all",
   "main_language": "python",
   "notebook_metadata_filter": "-all",
   "text_representation": {
    "extension": ".py",
    "format_name": "light"
   }
  }
 },
 "nbformat": 4,
 "nbformat_minor": 5
}
