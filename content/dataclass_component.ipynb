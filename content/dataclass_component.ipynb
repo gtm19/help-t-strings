{
 "cells": [
  {
   "cell_type": "code",
   "execution_count": null,
   "id": "71119db6",
   "metadata": {},
   "outputs": [],
   "source": [
    "\"\"\"Components can be any kind of dataclass_component.\"\"\""
   ]
  },
  {
   "cell_type": "code",
   "execution_count": null,
   "id": "382210dc",
   "metadata": {},
   "outputs": [],
   "source": [
    "from dataclasses import dataclass"
   ]
  },
  {
   "cell_type": "code",
   "execution_count": null,
   "id": "28ee3d40",
   "metadata": {},
   "outputs": [],
   "source": [
    "from tdom import html"
   ]
  },
  {
   "cell_type": "code",
   "execution_count": null,
   "id": "6c6933f0",
   "metadata": {},
   "outputs": [],
   "source": [
    "@dataclass\n",
    "class Greeting:\n",
    "    \"\"\"Give a greeting.\"\"\"\n",
    "\n",
    "    name: str\n",
    "\n",
    "    def __call__(self):\n",
    "        \"\"\"Render to a string.\"\"\"\n",
    "        return f\"Hello {self.name}\""
   ]
  },
  {
   "cell_type": "code",
   "execution_count": null,
   "id": "f654950b",
   "metadata": {},
   "outputs": [],
   "source": [
    "def main():\n",
    "    \"\"\"Render a template to a string.\"\"\"\n",
    "    greeting = Greeting(name=\"viewdom\")\n",
    "    # TODO Teach the constructor to make dataclass components\n",
    "    result = html(t\"<div><{greeting} /></div>\")\n",
    "    return result"
   ]
  }
 ],
 "metadata": {
  "jupytext": {
   "cell_metadata_filter": "-all",
   "main_language": "python",
   "notebook_metadata_filter": "-all",
   "text_representation": {
    "extension": ".py",
    "format_name": "light"
   }
  }
 },
 "nbformat": 4,
 "nbformat_minor": 5
}
