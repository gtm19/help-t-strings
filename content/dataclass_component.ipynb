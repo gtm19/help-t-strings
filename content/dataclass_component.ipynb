{
 "cells": [
  {
   "cell_type": "code",
   "execution_count": null,
   "id": "68b4cddd",
   "metadata": {},
   "outputs": [],
   "source": [
    "\"\"\"Components can be any kind of dataclass_component.\"\"\""
   ]
  },
  {
   "cell_type": "code",
   "execution_count": null,
   "id": "f4762c1e",
   "metadata": {},
   "outputs": [],
   "source": [
    "from dataclasses import dataclass"
   ]
  },
  {
   "cell_type": "code",
   "execution_count": null,
   "id": "fde718cd",
   "metadata": {},
   "outputs": [],
   "source": [
    "from tdom import html"
   ]
  },
  {
   "cell_type": "code",
   "execution_count": null,
   "id": "730374e5",
   "metadata": {},
   "outputs": [],
   "source": [
    "@dataclass\n",
    "class Greeting:\n",
    "    \"\"\"Give a greeting.\"\"\"\n",
    "\n",
    "    name: str\n",
    "\n",
    "    def __call__(self):\n",
    "        \"\"\"Render to a string.\"\"\"\n",
    "        return f\"Hello {self.name}\""
   ]
  },
  {
   "cell_type": "code",
   "execution_count": null,
   "id": "4cec350f",
   "metadata": {},
   "outputs": [],
   "source": [
    "def main():\n",
    "    \"\"\"Render a template to a string.\"\"\"\n",
    "    greeting = Greeting(name=\"viewdom\")\n",
    "    # TODO Teach the constructor to make dataclass components\n",
    "    result = html(t\"<div><{greeting} /></div>\")\n",
    "    return result"
   ]
  }
 ],
 "metadata": {
  "jupytext": {
   "cell_metadata_filter": "-all",
   "main_language": "python",
   "notebook_metadata_filter": "-all",
   "text_representation": {
    "extension": ".py",
    "format_name": "light"
   }
  }
 },
 "nbformat": 4,
 "nbformat_minor": 5
}
