{
 "cells": [
  {
   "cell_type": "code",
   "execution_count": null,
   "id": "eb0e8234",
   "metadata": {},
   "outputs": [],
   "source": [
    "\"\"\"Call a function from inside a template expression.\"\"\""
   ]
  },
  {
   "cell_type": "code",
   "execution_count": null,
   "id": "f508f146",
   "metadata": {},
   "outputs": [],
   "source": [
    "from tdom import html"
   ]
  },
  {
   "cell_type": "code",
   "execution_count": null,
   "id": "368c5c9f",
   "metadata": {},
   "outputs": [],
   "source": [
    "def make_bigly(name: str) -> str:\n",
    "    \"\"\"A function returning a string, rather than a component.\"\"\"\n",
    "    return f\"BIGLY: {name.upper()}\""
   ]
  },
  {
   "cell_type": "code",
   "execution_count": null,
   "id": "2d56b175",
   "metadata": {},
   "outputs": [],
   "source": [
    "def main():\n",
    "    \"\"\"Main entry point.\"\"\"\n",
    "    name = \"viewdom\"\n",
    "    result = html(t\"<div>Hello {make_bigly(name)}</div>\")\n",
    "    return result"
   ]
  }
 ],
 "metadata": {
  "jupytext": {
   "cell_metadata_filter": "-all",
   "main_language": "python",
   "notebook_metadata_filter": "-all",
   "text_representation": {
    "extension": ".py",
    "format_name": "light"
   }
  }
 },
 "nbformat": 4,
 "nbformat_minor": 5
}
