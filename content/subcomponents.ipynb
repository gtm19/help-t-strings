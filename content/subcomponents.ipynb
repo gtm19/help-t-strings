{
 "cells": [
  {
   "cell_type": "code",
   "execution_count": null,
   "id": "e30c5ba8",
   "metadata": {},
   "outputs": [],
   "source": [
    "\"\"\"Subcomponents.\"\"\""
   ]
  },
  {
   "cell_type": "code",
   "execution_count": null,
   "id": "bcfce157",
   "metadata": {},
   "outputs": [],
   "source": [
    "from tdom import html"
   ]
  },
  {
   "cell_type": "code",
   "execution_count": null,
   "id": "794cf1aa",
   "metadata": {},
   "outputs": [],
   "source": [
    "title = \"My Todos\""
   ]
  },
  {
   "cell_type": "code",
   "execution_count": null,
   "id": "de6a57ac",
   "metadata": {},
   "outputs": [],
   "source": [
    "def Todo(label):\n",
    "    \"\"\"An individual to do component.\"\"\"\n",
    "    return html(t\"<li>{label}</li>\")"
   ]
  },
  {
   "cell_type": "code",
   "execution_count": null,
   "id": "8dfe3a85",
   "metadata": {},
   "outputs": [],
   "source": [
    "def TodoList(todos):\n",
    "    \"\"\"A to do list component.\"\"\"\n",
    "    # Pass an argument, not the normal props style\n",
    "    return html(t\"<ul>{[Todo(label) for label in todos]}</ul>\")"
   ]
  },
  {
   "cell_type": "code",
   "execution_count": null,
   "id": "f28cd9ce",
   "metadata": {},
   "outputs": [],
   "source": [
    "def main():\n",
    "    \"\"\"Main entry point.\"\"\"\n",
    "    todos = [\"first\"]\n",
    "    return html(\n",
    "        t\"\"\"\n",
    "      <h1>{title}</h1>\n",
    "      <{TodoList} todos={todos} />\n",
    "    \"\"\"\n",
    "    )"
   ]
  }
 ],
 "metadata": {
  "jupytext": {
   "cell_metadata_filter": "-all",
   "main_language": "python",
   "notebook_metadata_filter": "-all",
   "text_representation": {
    "extension": ".py",
    "format_name": "light"
   }
  }
 },
 "nbformat": 4,
 "nbformat_minor": 5
}
