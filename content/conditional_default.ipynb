{
 "cells": [
  {
   "cell_type": "code",
   "execution_count": null,
   "id": "2a29b180",
   "metadata": {},
   "outputs": [],
   "source": [
    "\"\"\"An expression which chooses subcomponent based on condition.\"\"\""
   ]
  },
  {
   "cell_type": "code",
   "execution_count": null,
   "id": "c7c9417b",
   "metadata": {},
   "outputs": [],
   "source": [
    "from tdom import html"
   ]
  },
  {
   "cell_type": "code",
   "execution_count": null,
   "id": "ba9ebe17",
   "metadata": {},
   "outputs": [],
   "source": [
    "def DefaultHeading():\n",
    "    \"\"\"The default heading.\"\"\"\n",
    "    return html(t\"<h1>Default Heading</h1>\")"
   ]
  },
  {
   "cell_type": "code",
   "execution_count": null,
   "id": "85be2cb4",
   "metadata": {},
   "outputs": [],
   "source": [
    "def OtherHeading():\n",
    "    \"\"\"Another heading used in another condition.\"\"\"\n",
    "    return html(t\"<h1>Other Heading</h1>\")"
   ]
  },
  {
   "cell_type": "code",
   "execution_count": null,
   "id": "68bfd973",
   "metadata": {},
   "outputs": [],
   "source": [
    "def Body(heading):\n",
    "    \"\"\"Render the body with a heading based on which is passed in.\"\"\"\n",
    "    return html(t\"<body>{heading if heading else DefaultHeading}</body>\")"
   ]
  },
  {
   "cell_type": "code",
   "execution_count": null,
   "id": "b8c4107b",
   "metadata": {},
   "outputs": [],
   "source": [
    "def main():\n",
    "    \"\"\"Main entry point.\"\"\"\n",
    "    result = html(t\"<{Body} heading={OtherHeading}/>\")\n",
    "    return result"
   ]
  }
 ],
 "metadata": {
  "jupytext": {
   "cell_metadata_filter": "-all",
   "main_language": "python",
   "notebook_metadata_filter": "-all",
   "text_representation": {
    "extension": ".py",
    "format_name": "light"
   }
  }
 },
 "nbformat": 4,
 "nbformat_minor": 5
}
