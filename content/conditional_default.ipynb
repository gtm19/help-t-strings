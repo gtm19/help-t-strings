{
 "cells": [
  {
   "cell_type": "code",
   "execution_count": null,
   "id": "e46ec9e8",
   "metadata": {},
   "outputs": [],
   "source": [
    "\"\"\"An expression which chooses subcomponent based on condition.\"\"\""
   ]
  },
  {
   "cell_type": "code",
   "execution_count": null,
   "id": "d4bc6a1f",
   "metadata": {},
   "outputs": [],
   "source": [
    "from tdom import html"
   ]
  },
  {
   "cell_type": "code",
   "execution_count": null,
   "id": "25e7eb68",
   "metadata": {},
   "outputs": [],
   "source": [
    "def DefaultHeading():\n",
    "    \"\"\"The default heading.\"\"\"\n",
    "    return html(t\"<h1>Default Heading</h1>\")"
   ]
  },
  {
   "cell_type": "code",
   "execution_count": null,
   "id": "6820086a",
   "metadata": {},
   "outputs": [],
   "source": [
    "def OtherHeading():\n",
    "    \"\"\"Another heading used in another condition.\"\"\"\n",
    "    return html(t\"<h1>Other Heading</h1>\")"
   ]
  },
  {
   "cell_type": "code",
   "execution_count": null,
   "id": "cbc747a0",
   "metadata": {},
   "outputs": [],
   "source": [
    "def Body(heading):\n",
    "    \"\"\"Render the body with a heading based on which is passed in.\"\"\"\n",
    "    return html(t\"<body>{heading if heading else DefaultHeading}</body>\")"
   ]
  },
  {
   "cell_type": "code",
   "execution_count": null,
   "id": "9461dc1c",
   "metadata": {},
   "outputs": [],
   "source": [
    "def main():\n",
    "    \"\"\"Main entry point.\"\"\"\n",
    "    result = html(t\"<{Body} heading={OtherHeading}/>\")\n",
    "    return result"
   ]
  }
 ],
 "metadata": {
  "jupytext": {
   "cell_metadata_filter": "-all",
   "main_language": "python",
   "notebook_metadata_filter": "-all",
   "text_representation": {
    "extension": ".py",
    "format_name": "light"
   }
  }
 },
 "nbformat": 4,
 "nbformat_minor": 5
}
