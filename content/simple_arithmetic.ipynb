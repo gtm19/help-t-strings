{
 "cells": [
  {
   "cell_type": "code",
   "execution_count": null,
   "id": "8f9bf6c4",
   "metadata": {},
   "outputs": [],
   "source": [
    "\"\"\"Simple arithmetic expression in a template.\"\"\""
   ]
  },
  {
   "cell_type": "code",
   "execution_count": null,
   "id": "3117094e",
   "metadata": {},
   "outputs": [],
   "source": [
    "from tdom import html"
   ]
  },
  {
   "cell_type": "code",
   "execution_count": null,
   "id": "b417f202",
   "metadata": {},
   "outputs": [],
   "source": [
    "def main():\n",
    "    \"\"\"Main entry point.\"\"\"\n",
    "    name = \"viewdom\"\n",
    "    result = html(t\"<div>Hello {1 + 3}</div>\")\n",
    "    return result"
   ]
  }
 ],
 "metadata": {
  "jupytext": {
   "cell_metadata_filter": "-all",
   "main_language": "python",
   "notebook_metadata_filter": "-all",
   "text_representation": {
    "extension": ".py",
    "format_name": "light"
   }
  }
 },
 "nbformat": 4,
 "nbformat_minor": 5
}
