{
 "cells": [
  {
   "cell_type": "code",
   "execution_count": null,
   "id": "cee0f35c",
   "metadata": {},
   "outputs": [],
   "source": [
    "\"\"\"Examples that serve as documentation and tests.\"\"\""
   ]
  }
 ],
 "metadata": {
  "jupytext": {
   "cell_metadata_filter": "-all",
   "main_language": "python",
   "notebook_metadata_filter": "-all",
   "text_representation": {
    "extension": ".py",
    "format_name": "light"
   }
  }
 },
 "nbformat": 4,
 "nbformat_minor": 5
}
