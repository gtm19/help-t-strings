{
 "cells": [
  {
   "cell_type": "code",
   "execution_count": null,
   "id": "a40d8058",
   "metadata": {},
   "outputs": [],
   "source": [
    "\"\"\"Pass a Python symbol as part of an expression.\"\"\""
   ]
  },
  {
   "cell_type": "code",
   "execution_count": null,
   "id": "abfcf1b2",
   "metadata": {},
   "outputs": [],
   "source": [
    "from tdom import html"
   ]
  },
  {
   "cell_type": "code",
   "execution_count": null,
   "id": "2fe946ef",
   "metadata": {},
   "outputs": [],
   "source": [
    "def Heading(title):\n",
    "    \"\"\"The default heading.\"\"\"\n",
    "    return html(t\"<h1>{title}</h1>\")"
   ]
  },
  {
   "cell_type": "code",
   "execution_count": null,
   "id": "38787b67",
   "metadata": {},
   "outputs": [],
   "source": [
    "def main():\n",
    "    \"\"\"Main entry point.\"\"\"\n",
    "    result = html(t'<{Heading} title={\"My Title\"} />')\n",
    "    return result"
   ]
  }
 ],
 "metadata": {
  "jupytext": {
   "cell_metadata_filter": "-all",
   "main_language": "python",
   "notebook_metadata_filter": "-all",
   "text_representation": {
    "extension": ".py",
    "format_name": "light"
   }
  }
 },
 "nbformat": 4,
 "nbformat_minor": 5
}
