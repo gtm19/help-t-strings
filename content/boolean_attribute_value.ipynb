{
 "cells": [
  {
   "cell_type": "code",
   "execution_count": null,
   "id": "1051a8e7",
   "metadata": {},
   "outputs": [],
   "source": [
    "\"\"\"Boolean attribute values are reduced during rendering.\"\"\""
   ]
  },
  {
   "cell_type": "code",
   "execution_count": null,
   "id": "394eacaf",
   "metadata": {},
   "outputs": [],
   "source": [
    "from tdom import html"
   ]
  },
  {
   "cell_type": "code",
   "execution_count": null,
   "id": "7b4d8476",
   "metadata": {},
   "outputs": [],
   "source": [
    "def main():\n",
    "    \"\"\"Main entry point.\"\"\"\n",
    "    result = html(t\"<div editable={True}>Hello World</div>\")\n",
    "    return result"
   ]
  }
 ],
 "metadata": {
  "jupytext": {
   "cell_metadata_filter": "-all",
   "main_language": "python",
   "notebook_metadata_filter": "-all",
   "text_representation": {
    "extension": ".py",
    "format_name": "light"
   }
  }
 },
 "nbformat": 4,
 "nbformat_minor": 5
}
