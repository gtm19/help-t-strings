{
 "cells": [
  {
   "cell_type": "code",
   "execution_count": null,
   "id": "d3edec7c",
   "metadata": {},
   "outputs": [],
   "source": [
    "\"\"\"Examples that show looping.\"\"\""
   ]
  }
 ],
 "metadata": {
  "jupytext": {
   "cell_metadata_filter": "-all",
   "main_language": "python",
   "notebook_metadata_filter": "-all",
   "text_representation": {
    "extension": ".py",
    "format_name": "light"
   }
  }
 },
 "nbformat": 4,
 "nbformat_minor": 5
}
