{
 "cells": [
  {
   "cell_type": "code",
   "execution_count": null,
   "id": "16ed5c68",
   "metadata": {},
   "outputs": [],
   "source": [
    "\"\"\"Optional props.\"\"\"\n",
    "from tdom import html"
   ]
  },
  {
   "cell_type": "code",
   "execution_count": null,
   "id": "7d7142da",
   "metadata": {},
   "outputs": [],
   "source": [
    "def Heading(title=\"My Title\"):\n",
    "    \"\"\"The default heading.\"\"\"\n",
    "\n",
    "    return html(t\"<h1>{title}</h1>\")"
   ]
  },
  {
   "cell_type": "code",
   "execution_count": null,
   "id": "9620b07e",
   "metadata": {},
   "outputs": [],
   "source": [
    "def main():\n",
    "    \"\"\"Main entry point.\"\"\"\n",
    "    result = html(t\"<{Heading} />\")\n",
    "    return result"
   ]
  }
 ],
 "metadata": {
  "jupytext": {
   "cell_metadata_filter": "-all",
   "main_language": "python",
   "notebook_metadata_filter": "-all",
   "text_representation": {
    "extension": ".py",
    "format_name": "light"
   }
  }
 },
 "nbformat": 4,
 "nbformat_minor": 5
}
