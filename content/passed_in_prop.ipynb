{
 "cells": [
  {
   "cell_type": "code",
   "execution_count": null,
   "id": "53473af2",
   "metadata": {},
   "outputs": [],
   "source": [
    "\"\"\"Get a variable from a passed-in ``prop``.\"\"\""
   ]
  },
  {
   "cell_type": "code",
   "execution_count": null,
   "id": "82a6e226",
   "metadata": {},
   "outputs": [],
   "source": [
    "from tdom import html"
   ]
  },
  {
   "cell_type": "code",
   "execution_count": null,
   "id": "e9e140a2",
   "metadata": {},
   "outputs": [],
   "source": [
    "def Hello(name):\n",
    "    \"\"\"A simple hello component.\"\"\"\n",
    "    return html(t\"<div>Hello {name}</div>\")"
   ]
  },
  {
   "cell_type": "code",
   "execution_count": null,
   "id": "aa135554",
   "metadata": {},
   "outputs": [],
   "source": [
    "def main():\n",
    "    \"\"\"Main entry point.\"\"\"\n",
    "    result = Hello(name=\"viewdom\")\n",
    "    return result"
   ]
  }
 ],
 "metadata": {
  "jupytext": {
   "cell_metadata_filter": "-all",
   "main_language": "python",
   "notebook_metadata_filter": "-all",
   "text_representation": {
    "extension": ".py",
    "format_name": "light"
   }
  }
 },
 "nbformat": 4,
 "nbformat_minor": 5
}
