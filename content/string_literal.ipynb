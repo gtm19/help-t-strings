{
 "cells": [
  {
   "cell_type": "code",
   "execution_count": null,
   "id": "b238a389",
   "metadata": {},
   "outputs": [],
   "source": [
    "\"\"\"Render just a string literal.\"\"\""
   ]
  },
  {
   "cell_type": "code",
   "execution_count": null,
   "id": "8d5ed45c",
   "metadata": {},
   "outputs": [],
   "source": [
    "from tdom import html"
   ]
  },
  {
   "cell_type": "code",
   "execution_count": null,
   "id": "b9af20db",
   "metadata": {},
   "outputs": [],
   "source": [
    "def main():\n",
    "    \"\"\"Main entry point.\"\"\"\n",
    "    result = html(t\"Hello World\")\n",
    "    return result"
   ]
  }
 ],
 "metadata": {
  "jupytext": {
   "cell_metadata_filter": "-all",
   "main_language": "python",
   "notebook_metadata_filter": "-all",
   "text_representation": {
    "extension": ".py",
    "format_name": "light"
   }
  }
 },
 "nbformat": 4,
 "nbformat_minor": 5
}
