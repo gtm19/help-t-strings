{
 "cells": [
  {
   "cell_type": "code",
   "execution_count": null,
   "id": "2f218d83",
   "metadata": {},
   "outputs": [],
   "source": [
    "\"\"\"Simple function component, nothing dynamic, that returns a VDOM.\"\"\"\n",
    "from tdom import html"
   ]
  },
  {
   "cell_type": "code",
   "execution_count": null,
   "id": "99171452",
   "metadata": {},
   "outputs": [],
   "source": [
    "def Heading():\n",
    "    \"\"\"The default heading.\"\"\"\n",
    "    return html(t\"<h1>My Title</h1>\")"
   ]
  },
  {
   "cell_type": "code",
   "execution_count": null,
   "id": "e3a03c0f",
   "metadata": {},
   "outputs": [],
   "source": [
    "def main():\n",
    "    \"\"\"Main entry point.\"\"\"\n",
    "    result = html(t\"<{Heading} />\")\n",
    "    return result"
   ]
  }
 ],
 "metadata": {
  "jupytext": {
   "cell_metadata_filter": "-all",
   "main_language": "python",
   "notebook_metadata_filter": "-all",
   "text_representation": {
    "extension": ".py",
    "format_name": "light"
   }
  }
 },
 "nbformat": 4,
 "nbformat_minor": 5
}
