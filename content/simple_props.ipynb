{
 "cells": [
  {
   "cell_type": "code",
   "execution_count": null,
   "id": "4df44cc8",
   "metadata": {},
   "outputs": [],
   "source": [
    "\"\"\"Use ``children`` as a built-in \"prop\".\"\"\""
   ]
  },
  {
   "cell_type": "code",
   "execution_count": null,
   "id": "eb6c65f0",
   "metadata": {},
   "outputs": [],
   "source": [
    "from tdom import html"
   ]
  },
  {
   "cell_type": "code",
   "execution_count": null,
   "id": "9e8bfa50",
   "metadata": {},
   "outputs": [],
   "source": [
    "def Heading(title):\n",
    "    \"\"\"Default heading.\"\"\"\n",
    "    return html(t\"<h1>{title}</h1>\")"
   ]
  },
  {
   "cell_type": "code",
   "execution_count": null,
   "id": "51c93a8c",
   "metadata": {},
   "outputs": [],
   "source": [
    "def main():\n",
    "    \"\"\"Main entry point.\"\"\"\n",
    "    result = html(t'<{Heading} title=\"My Title\" />')\n",
    "    return result"
   ]
  }
 ],
 "metadata": {
  "jupytext": {
   "cell_metadata_filter": "-all",
   "main_language": "python",
   "notebook_metadata_filter": "-all",
   "text_representation": {
    "extension": ".py",
    "format_name": "light"
   }
  }
 },
 "nbformat": 4,
 "nbformat_minor": 5
}
