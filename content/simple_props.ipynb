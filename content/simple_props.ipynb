{
 "cells": [
  {
   "cell_type": "code",
   "execution_count": null,
   "id": "6b028153",
   "metadata": {},
   "outputs": [],
   "source": [
    "\"\"\"Use ``children`` as a built-in \"prop\".\"\"\""
   ]
  },
  {
   "cell_type": "code",
   "execution_count": null,
   "id": "9cfaa426",
   "metadata": {},
   "outputs": [],
   "source": [
    "from tdom import html"
   ]
  },
  {
   "cell_type": "code",
   "execution_count": null,
   "id": "4d292a1d",
   "metadata": {},
   "outputs": [],
   "source": [
    "def Heading(title):\n",
    "    \"\"\"Default heading.\"\"\"\n",
    "    return html(t\"<h1>{title}</h1>\")"
   ]
  },
  {
   "cell_type": "code",
   "execution_count": null,
   "id": "b9b429db",
   "metadata": {},
   "outputs": [],
   "source": [
    "def main():\n",
    "    \"\"\"Main entry point.\"\"\"\n",
    "    result = html(t'<{Heading} title=\"My Title\" />')\n",
    "    return result"
   ]
  }
 ],
 "metadata": {
  "jupytext": {
   "cell_metadata_filter": "-all",
   "main_language": "python",
   "notebook_metadata_filter": "-all",
   "text_representation": {
    "extension": ".py",
    "format_name": "light"
   }
  }
 },
 "nbformat": 4,
 "nbformat_minor": 5
}
